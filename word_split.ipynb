{
 "cells": [
  {
   "cell_type": "code",
   "execution_count": 1,
   "id": "97984933-13ea-44bc-a407-5c1fbf7a14bd",
   "metadata": {},
   "outputs": [
    {
     "ename": "TypeError",
     "evalue": "unsupported operand type(s) for +: 'WindowsPath' and 'str'",
     "output_type": "error",
     "traceback": [
      "\u001b[1;31m---------------------------------------------------------------------------\u001b[0m",
      "\u001b[1;31mTypeError\u001b[0m                                 Traceback (most recent call last)",
      "Input \u001b[1;32mIn [1]\u001b[0m, in \u001b[0;36m<cell line: 9>\u001b[1;34m()\u001b[0m\n\u001b[0;32m      8\u001b[0m txts \u001b[38;5;241m=\u001b[39m pd\u001b[38;5;241m.\u001b[39mDataFrame()\n\u001b[0;32m      9\u001b[0m \u001b[38;5;28;01mfor\u001b[39;00m file \u001b[38;5;129;01min\u001b[39;00m files:\n\u001b[1;32m---> 10\u001b[0m     position \u001b[38;5;241m=\u001b[39m \u001b[43mpath\u001b[49m\u001b[43m \u001b[49m\u001b[38;5;241;43m+\u001b[39;49m\u001b[43m \u001b[49m\u001b[43mos\u001b[49m\u001b[38;5;241;43m.\u001b[39;49m\u001b[43msep\u001b[49m \u001b[38;5;241m+\u001b[39m file\n\u001b[0;32m     11\u001b[0m     \u001b[38;5;28mprint\u001b[39m(position)\n\u001b[0;32m     12\u001b[0m     data \u001b[38;5;241m=\u001b[39m pd\u001b[38;5;241m.\u001b[39mread_csv(position, sep\u001b[38;5;241m=\u001b[39m\u001b[38;5;124m'\u001b[39m\u001b[38;5;130;01m\\\\\u001b[39;00m\u001b[38;5;124ms+\u001b[39m\u001b[38;5;124m'\u001b[39m)\n",
      "\u001b[1;31mTypeError\u001b[0m: unsupported operand type(s) for +: 'WindowsPath' and 'str'"
     ]
    }
   ],
   "source": [
    "from pathlib import Path\n",
    "import pandas as pd\n",
    "import os\n",
    " \n",
    "path = Path(r\"C:\\Users\\czl99\\Desktop\\project\\data\\daily\")\n",
    " \n",
    "files = os.listdir(path)\n",
    "txts = pd.DataFrame()\n",
    "for file in files:\n",
    "    position = path + os.sep + file\n",
    "    print(position)\n",
    "    data = pd.read_csv(position, sep='\\\\s+')\n",
    "    txts = pd.concat([txts, data])\n",
    "    \n",
    "txts.to_csv('website.csv', encoding='gbk', index=False)"
   ]
  },
  {
   "cell_type": "code",
   "execution_count": 2,
   "id": "fcf6e426-913b-4cc9-a4a6-de8a21e1b240",
   "metadata": {},
   "outputs": [],
   "source": [
    "website_duplicate = pd.read_csv('C:/Users/czl99/Desktop/project/website_Full Data.csv')"
   ]
  },
  {
   "cell_type": "code",
   "execution_count": 3,
   "id": "a6eeaaef-7e70-42c2-91c2-069be9ab2e24",
   "metadata": {},
   "outputs": [
    {
     "data": {
      "text/html": [
       "<div>\n",
       "<style scoped>\n",
       "    .dataframe tbody tr th:only-of-type {\n",
       "        vertical-align: middle;\n",
       "    }\n",
       "\n",
       "    .dataframe tbody tr th {\n",
       "        vertical-align: top;\n",
       "    }\n",
       "\n",
       "    .dataframe thead th {\n",
       "        text-align: right;\n",
       "    }\n",
       "</style>\n",
       "<table border=\"1\" class=\"dataframe\">\n",
       "  <thead>\n",
       "    <tr style=\"text-align: right;\">\n",
       "      <th></th>\n",
       "      <th>domain</th>\n",
       "      <th>suffix</th>\n",
       "      <th>word</th>\n",
       "    </tr>\n",
       "  </thead>\n",
       "  <tbody>\n",
       "    <tr>\n",
       "      <th>0</th>\n",
       "      <td>plavedtech.com</td>\n",
       "      <td>com</td>\n",
       "      <td>plavedtech</td>\n",
       "    </tr>\n",
       "    <tr>\n",
       "      <th>1</th>\n",
       "      <td>plaxis-stereo-rck.org</td>\n",
       "      <td>org</td>\n",
       "      <td>plaxis-stereo-rck</td>\n",
       "    </tr>\n",
       "    <tr>\n",
       "      <th>2</th>\n",
       "      <td>play-girls.online</td>\n",
       "      <td>online</td>\n",
       "      <td>play-girls</td>\n",
       "    </tr>\n",
       "    <tr>\n",
       "      <th>3</th>\n",
       "      <td>play-story.online</td>\n",
       "      <td>online</td>\n",
       "      <td>play-story</td>\n",
       "    </tr>\n",
       "    <tr>\n",
       "      <th>4</th>\n",
       "      <td>play434.com</td>\n",
       "      <td>com</td>\n",
       "      <td>play434</td>\n",
       "    </tr>\n",
       "    <tr>\n",
       "      <th>...</th>\n",
       "      <td>...</td>\n",
       "      <td>...</td>\n",
       "      <td>...</td>\n",
       "    </tr>\n",
       "    <tr>\n",
       "      <th>102533</th>\n",
       "      <td>loudsurface.com</td>\n",
       "      <td>com</td>\n",
       "      <td>loudsurface</td>\n",
       "    </tr>\n",
       "    <tr>\n",
       "      <th>102534</th>\n",
       "      <td>louerduvernay.com</td>\n",
       "      <td>com</td>\n",
       "      <td>louerduvernay</td>\n",
       "    </tr>\n",
       "    <tr>\n",
       "      <th>102535</th>\n",
       "      <td>loufengyou.xyz</td>\n",
       "      <td>xyz</td>\n",
       "      <td>loufengyou</td>\n",
       "    </tr>\n",
       "    <tr>\n",
       "      <th>102536</th>\n",
       "      <td>loufystore.site</td>\n",
       "      <td>site</td>\n",
       "      <td>loufystore</td>\n",
       "    </tr>\n",
       "    <tr>\n",
       "      <th>102537</th>\n",
       "      <td>louies3dprints.com</td>\n",
       "      <td>com</td>\n",
       "      <td>louies3dprints</td>\n",
       "    </tr>\n",
       "  </tbody>\n",
       "</table>\n",
       "<p>102538 rows × 3 columns</p>\n",
       "</div>"
      ],
      "text/plain": [
       "                       domain  suffix               word\n",
       "0              plavedtech.com     com         plavedtech\n",
       "1       plaxis-stereo-rck.org     org  plaxis-stereo-rck\n",
       "2           play-girls.online  online         play-girls\n",
       "3           play-story.online  online         play-story\n",
       "4                 play434.com     com            play434\n",
       "...                       ...     ...                ...\n",
       "102533        loudsurface.com     com        loudsurface\n",
       "102534      louerduvernay.com     com      louerduvernay\n",
       "102535         loufengyou.xyz     xyz         loufengyou\n",
       "102536        loufystore.site    site         loufystore\n",
       "102537     louies3dprints.com     com     louies3dprints\n",
       "\n",
       "[102538 rows x 3 columns]"
      ]
     },
     "execution_count": 3,
     "metadata": {},
     "output_type": "execute_result"
    }
   ],
   "source": [
    "website_duplicate"
   ]
  },
  {
   "cell_type": "code",
   "execution_count": 4,
   "id": "a940e9b6-c06a-4ec0-8725-b854bfd88f17",
   "metadata": {},
   "outputs": [],
   "source": [
    "website = website_duplicate.drop_duplicates(keep='first', inplace= False)"
   ]
  },
  {
   "cell_type": "code",
   "execution_count": 5,
   "id": "81ac4e8c-b73d-4590-a63a-415814257217",
   "metadata": {},
   "outputs": [
    {
     "data": {
      "text/plain": [
       "'plavedtech'"
      ]
     },
     "execution_count": 5,
     "metadata": {},
     "output_type": "execute_result"
    }
   ],
   "source": [
    "dataset = website.word\n",
    "dataset[0]"
   ]
  },
  {
   "cell_type": "code",
   "execution_count": 6,
   "id": "efaa6ca6-322d-4600-9940-6deb180e7dd7",
   "metadata": {},
   "outputs": [],
   "source": [
    "company = pd.read_csv('C:/Users/czl99/Desktop/project/Company.csv')"
   ]
  },
  {
   "cell_type": "code",
   "execution_count": 7,
   "id": "10ee0bfa-3238-40fe-8ec5-085382966ad3",
   "metadata": {},
   "outputs": [
    {
     "data": {
      "text/html": [
       "<div>\n",
       "<style scoped>\n",
       "    .dataframe tbody tr th:only-of-type {\n",
       "        vertical-align: middle;\n",
       "    }\n",
       "\n",
       "    .dataframe tbody tr th {\n",
       "        vertical-align: top;\n",
       "    }\n",
       "\n",
       "    .dataframe thead th {\n",
       "        text-align: right;\n",
       "    }\n",
       "</style>\n",
       "<table border=\"1\" class=\"dataframe\">\n",
       "  <thead>\n",
       "    <tr style=\"text-align: right;\">\n",
       "      <th></th>\n",
       "      <th>Company Name</th>\n",
       "      <th>URI</th>\n",
       "    </tr>\n",
       "  </thead>\n",
       "  <tbody>\n",
       "    <tr>\n",
       "      <th>0</th>\n",
       "      <td>BEXVILLE LIMITED</td>\n",
       "      <td>http://business.data.gov.uk/id/company/01196610</td>\n",
       "    </tr>\n",
       "    <tr>\n",
       "      <th>1</th>\n",
       "      <td>BELVOIRTEX LIMITED</td>\n",
       "      <td>http://business.data.gov.uk/id/company/01335906</td>\n",
       "    </tr>\n",
       "    <tr>\n",
       "      <th>2</th>\n",
       "      <td>BABY DAYS LIMITED</td>\n",
       "      <td>http://business.data.gov.uk/id/company/01858240</td>\n",
       "    </tr>\n",
       "    <tr>\n",
       "      <th>3</th>\n",
       "      <td>B.W.R. (TRANSPORT) LTD.</td>\n",
       "      <td>http://business.data.gov.uk/id/company/02378266</td>\n",
       "    </tr>\n",
       "    <tr>\n",
       "      <th>4</th>\n",
       "      <td>B.J. ELECTRICAL WHOLESALERS LIMITED</td>\n",
       "      <td>http://business.data.gov.uk/id/company/01672367</td>\n",
       "    </tr>\n",
       "    <tr>\n",
       "      <th>...</th>\n",
       "      <td>...</td>\n",
       "      <td>...</td>\n",
       "    </tr>\n",
       "    <tr>\n",
       "      <th>5112743</th>\n",
       "      <td>PTH ENTERPRISES LIMITED</td>\n",
       "      <td>http://business.data.gov.uk/id/company/12352906</td>\n",
       "    </tr>\n",
       "    <tr>\n",
       "      <th>5112744</th>\n",
       "      <td>PWLLHELI AMUSEMENTS LIMITED</td>\n",
       "      <td>http://business.data.gov.uk/id/company/01033109</td>\n",
       "    </tr>\n",
       "    <tr>\n",
       "      <th>5112745</th>\n",
       "      <td>PURITECH (UK) LTD</td>\n",
       "      <td>http://business.data.gov.uk/id/company/07606457</td>\n",
       "    </tr>\n",
       "    <tr>\n",
       "      <th>5112746</th>\n",
       "      <td>METAL SURGERY (WESSEX) LIMITED</td>\n",
       "      <td>http://business.data.gov.uk/id/company/00991216</td>\n",
       "    </tr>\n",
       "    <tr>\n",
       "      <th>5112747</th>\n",
       "      <td>ZUUS SPORTS LIMITED</td>\n",
       "      <td>http://business.data.gov.uk/id/company/09255373</td>\n",
       "    </tr>\n",
       "  </tbody>\n",
       "</table>\n",
       "<p>5112748 rows × 2 columns</p>\n",
       "</div>"
      ],
      "text/plain": [
       "                                Company Name  \\\n",
       "0                           BEXVILLE LIMITED   \n",
       "1                         BELVOIRTEX LIMITED   \n",
       "2                          BABY DAYS LIMITED   \n",
       "3                    B.W.R. (TRANSPORT) LTD.   \n",
       "4        B.J. ELECTRICAL WHOLESALERS LIMITED   \n",
       "...                                      ...   \n",
       "5112743              PTH ENTERPRISES LIMITED   \n",
       "5112744          PWLLHELI AMUSEMENTS LIMITED   \n",
       "5112745                    PURITECH (UK) LTD   \n",
       "5112746       METAL SURGERY (WESSEX) LIMITED   \n",
       "5112747                  ZUUS SPORTS LIMITED   \n",
       "\n",
       "                                                     URI  \n",
       "0        http://business.data.gov.uk/id/company/01196610  \n",
       "1        http://business.data.gov.uk/id/company/01335906  \n",
       "2        http://business.data.gov.uk/id/company/01858240  \n",
       "3        http://business.data.gov.uk/id/company/02378266  \n",
       "4        http://business.data.gov.uk/id/company/01672367  \n",
       "...                                                  ...  \n",
       "5112743  http://business.data.gov.uk/id/company/12352906  \n",
       "5112744  http://business.data.gov.uk/id/company/01033109  \n",
       "5112745  http://business.data.gov.uk/id/company/07606457  \n",
       "5112746  http://business.data.gov.uk/id/company/00991216  \n",
       "5112747  http://business.data.gov.uk/id/company/09255373  \n",
       "\n",
       "[5112748 rows x 2 columns]"
      ]
     },
     "execution_count": 7,
     "metadata": {},
     "output_type": "execute_result"
    }
   ],
   "source": [
    "company"
   ]
  },
  {
   "cell_type": "code",
   "execution_count": 13,
   "id": "5bc76a82-3a8e-469b-a03d-501591442e07",
   "metadata": {},
   "outputs": [
    {
     "name": "stdout",
     "output_type": "stream",
     "text": [
      "['play', 'girl']\n",
      "['play', 'girl', 'playstation']\n",
      "['play', 'girl', 'playstation', 'company']\n",
      "['play', 'girl', 'playstation', 'company', 'google']\n"
     ]
    }
   ],
   "source": [
    "import string\n",
    "def main():\n",
    "    f = open(\"test.txt\",\"r\",encoding = 'utf-8')\n",
    "    list1 = []\n",
    "    words = []\n",
    "    for line in f.readlines():\n",
    "        line = line.strip('\\n')\n",
    "        line = line.strip(string.digits)\n",
    "        line = line.strip(string.punctuation)\n",
    "        line = line.rstrip(string.punctuation)\n",
    "        for word in line.split():\n",
    "            words.append(word)\n",
    "        print(words)\n",
    "        f.close()\n",
    "main()"
   ]
  },
  {
   "cell_type": "code",
   "execution_count": 1,
   "id": "d916f3df-bbbf-496c-be48-09f5084e35de",
   "metadata": {},
   "outputs": [
    {
     "ename": "SyntaxError",
     "evalue": "invalid syntax (2616394789.py, line 6)",
     "output_type": "error",
     "traceback": [
      "\u001b[1;36m  Input \u001b[1;32mIn [1]\u001b[1;36m\u001b[0m\n\u001b[1;33m    def best_match(i)\u001b[0m\n\u001b[1;37m                     ^\u001b[0m\n\u001b[1;31mSyntaxError\u001b[0m\u001b[1;31m:\u001b[0m invalid syntax\n"
     ]
    }
   ],
   "source": [
    "def cutLongNameFun(self,s):\n",
    "    words = open(\"test.txt\").read().split()\n",
    "    wordcost = dict((k,log(i+1)*log(len(words))) for i,k in enumerate(words))\n",
    "    maxword = max(len(x) for x in words)\n",
    "    def infer_spaces(s):\n",
    "        def best_match(i)\n",
    "        candidates = emumerate(reversed(cost[max(0,i-maxword):i]))\n",
    "        return min((c + wordcost.get(s[i-k-1:i],9e999),k+1)for k,c in candidates)\n",
    "    cost = [0]\n",
    "    for i in range (1,len(s)+1):\n",
    "        c,k = best_match(i)\n",
    "        cost.append(c)\n",
    "        out = []\n",
    "        i = len(s)\n",
    "        while i>0:\n",
    "            c,k = best_match(i)\n",
    "            assert c == cost[i]\n",
    "            out.append(s,[i-k;i])\n",
    "            i -= k\n",
    "            return \"\".join(reversed(out))\n",
    "    s = \"thumbgreenappleactiveassignmentweeklymetaphor\"\n",
    "    print(infer_spaces(s))"
   ]
  },
  {
   "cell_type": "code",
   "execution_count": 40,
   "id": "6608b0ab-0740-4561-9096-8ee444ea76cc",
   "metadata": {},
   "outputs": [
    {
     "ename": "ValueError",
     "evalue": "min() arg is an empty sequence",
     "output_type": "error",
     "traceback": [
      "\u001b[1;31m---------------------------------------------------------------------------\u001b[0m",
      "\u001b[1;31mValueError\u001b[0m                                Traceback (most recent call last)",
      "Input \u001b[1;32mIn [40]\u001b[0m, in \u001b[0;36m<cell line: 25>\u001b[1;34m()\u001b[0m\n\u001b[0;32m     23\u001b[0m s \u001b[38;5;241m=\u001b[39m \u001b[38;5;124m\"\u001b[39m\u001b[38;5;124mthumbgreenappleactiveassignmentweeklymetaphor\u001b[39m\u001b[38;5;124m\"\u001b[39m\n\u001b[0;32m     24\u001b[0m \u001b[38;5;66;03m#print(\"111\")\u001b[39;00m\n\u001b[1;32m---> 25\u001b[0m \u001b[38;5;28mprint\u001b[39m(\u001b[43minfer_spaces\u001b[49m\u001b[43m(\u001b[49m\u001b[43ms\u001b[49m\u001b[43m)\u001b[49m)\n",
      "Input \u001b[1;32mIn [40]\u001b[0m, in \u001b[0;36minfer_spaces\u001b[1;34m(s)\u001b[0m\n\u001b[0;32m     16\u001b[0m i \u001b[38;5;241m=\u001b[39m \u001b[38;5;28mlen\u001b[39m(s)\n\u001b[0;32m     17\u001b[0m \u001b[38;5;28;01mwhile\u001b[39;00m i\u001b[38;5;241m>\u001b[39m\u001b[38;5;241m0\u001b[39m:\n\u001b[1;32m---> 18\u001b[0m     c,k \u001b[38;5;241m=\u001b[39m \u001b[43mbest_match\u001b[49m\u001b[43m(\u001b[49m\u001b[43mi\u001b[49m\u001b[43m)\u001b[49m\n\u001b[0;32m     19\u001b[0m     \u001b[38;5;28;01massert\u001b[39;00m c \u001b[38;5;241m==\u001b[39m cost[i]\n\u001b[0;32m     20\u001b[0m     out\u001b[38;5;241m.\u001b[39mappend(s[i\u001b[38;5;241m-\u001b[39mk:i])\n",
      "Input \u001b[1;32mIn [40]\u001b[0m, in \u001b[0;36minfer_spaces.<locals>.best_match\u001b[1;34m(i)\u001b[0m\n\u001b[0;32m      8\u001b[0m \u001b[38;5;28;01mdef\u001b[39;00m \u001b[38;5;21mbest_match\u001b[39m(i):\n\u001b[0;32m      9\u001b[0m         candidates \u001b[38;5;241m=\u001b[39m \u001b[38;5;28menumerate\u001b[39m(\u001b[38;5;28mreversed\u001b[39m(cost[\u001b[38;5;28mmax\u001b[39m(\u001b[38;5;241m0\u001b[39m,i\u001b[38;5;241m-\u001b[39mmaxword):i]))\n\u001b[1;32m---> 10\u001b[0m         \u001b[38;5;28;01mreturn\u001b[39;00m \u001b[38;5;28;43mmin\u001b[39;49m\u001b[43m(\u001b[49m\u001b[43m(\u001b[49m\u001b[43mc\u001b[49m\u001b[43m \u001b[49m\u001b[38;5;241;43m+\u001b[39;49m\u001b[43m \u001b[49m\u001b[43mwordcost\u001b[49m\u001b[38;5;241;43m.\u001b[39;49m\u001b[43mget\u001b[49m\u001b[43m(\u001b[49m\u001b[43ms\u001b[49m\u001b[43m[\u001b[49m\u001b[43mi\u001b[49m\u001b[38;5;241;43m-\u001b[39;49m\u001b[43mk\u001b[49m\u001b[38;5;241;43m-\u001b[39;49m\u001b[38;5;241;43m1\u001b[39;49m\u001b[43m:\u001b[49m\u001b[43mi\u001b[49m\u001b[43m]\u001b[49m\u001b[43m,\u001b[49m\u001b[38;5;241;43m9e999\u001b[39;49m\u001b[43m)\u001b[49m\u001b[43m,\u001b[49m\u001b[43mk\u001b[49m\u001b[38;5;241;43m+\u001b[39;49m\u001b[38;5;241;43m1\u001b[39;49m\u001b[43m)\u001b[49m\u001b[38;5;28;43;01mfor\u001b[39;49;00m\u001b[43m \u001b[49m\u001b[43mk\u001b[49m\u001b[43m,\u001b[49m\u001b[43mc\u001b[49m\u001b[43m \u001b[49m\u001b[38;5;129;43;01min\u001b[39;49;00m\u001b[43m \u001b[49m\u001b[43mcandidates\u001b[49m\u001b[43m)\u001b[49m\n",
      "\u001b[1;31mValueError\u001b[0m: min() arg is an empty sequence"
     ]
    }
   ],
   "source": [
    "import math\n",
    "\n",
    "words = open(\"test.txt\").read().split()\n",
    "wordcost = dict((k,math.log(i+1)*math.log(len(words))) for i,k in enumerate(words))\n",
    "maxword = max(len(x) for x in words)\n",
    "\n",
    "def infer_spaces(s):\n",
    "    def best_match(i):\n",
    "            candidates = enumerate(reversed(cost[max(0,i-maxword):i]))\n",
    "            return min((c + wordcost.get(s[i-k-1:i],9e999),k+1)for k,c in candidates)\n",
    "    cost = [0]\n",
    "    for i in range (1,len(s)+1):\n",
    "        c,k = best_match(i)\n",
    "        cost.append(c)\n",
    "        out = []\n",
    "        i = len(s)\n",
    "        while i>0:\n",
    "            c,k = best_match(i)\n",
    "            assert c == cost[i]\n",
    "            out.append(s[i-k:i])\n",
    "            i -= k\n",
    "            return \"\".join(reversed(out))\n",
    "s = \"thumbgreenappleactiveassignmentweeklymetaphor\"\n",
    "#print(\"111\")\n",
    "print(infer_spaces(s))"
   ]
  },
  {
   "cell_type": "code",
   "execution_count": null,
   "id": "5a1cb5c4-34f0-43ae-8322-240550f82cf7",
   "metadata": {},
   "outputs": [],
   "source": []
  },
  {
   "cell_type": "code",
   "execution_count": 58,
   "id": "75b1717c-8442-45f8-b626-428fc9d340cf",
   "metadata": {},
   "outputs": [],
   "source": [
    "website_duplicate = pd.read_csv('C:/Users/czl99/Desktop/project/website_test.csv')\n",
    "website = website_duplicate.drop_duplicates(keep='first', inplace= False)"
   ]
  },
  {
   "cell_type": "code",
   "execution_count": 59,
   "id": "1d4d8d89-9b14-47f0-a03f-5461168adb0f",
   "metadata": {},
   "outputs": [
    {
     "data": {
      "text/html": [
       "<div>\n",
       "<style scoped>\n",
       "    .dataframe tbody tr th:only-of-type {\n",
       "        vertical-align: middle;\n",
       "    }\n",
       "\n",
       "    .dataframe tbody tr th {\n",
       "        vertical-align: top;\n",
       "    }\n",
       "\n",
       "    .dataframe thead th {\n",
       "        text-align: right;\n",
       "    }\n",
       "</style>\n",
       "<table border=\"1\" class=\"dataframe\">\n",
       "  <thead>\n",
       "    <tr style=\"text-align: right;\">\n",
       "      <th></th>\n",
       "      <th>domain</th>\n",
       "      <th>word</th>\n",
       "    </tr>\n",
       "  </thead>\n",
       "  <tbody>\n",
       "    <tr>\n",
       "      <th>0</th>\n",
       "      <td>0.claims</td>\n",
       "      <td>NaN</td>\n",
       "    </tr>\n",
       "    <tr>\n",
       "      <th>1</th>\n",
       "      <td>0.training</td>\n",
       "      <td>NaN</td>\n",
       "    </tr>\n",
       "    <tr>\n",
       "      <th>2</th>\n",
       "      <td>000100110.com</td>\n",
       "      <td>NaN</td>\n",
       "    </tr>\n",
       "    <tr>\n",
       "      <th>3</th>\n",
       "      <td>0001stage.org</td>\n",
       "      <td>NaN</td>\n",
       "    </tr>\n",
       "    <tr>\n",
       "      <th>4</th>\n",
       "      <td>0002704.space</td>\n",
       "      <td>NaN</td>\n",
       "    </tr>\n",
       "    <tr>\n",
       "      <th>...</th>\n",
       "      <td>...</td>\n",
       "      <td>...</td>\n",
       "    </tr>\n",
       "    <tr>\n",
       "      <th>994</th>\n",
       "      <td>1rightchoice.store</td>\n",
       "      <td>NaN</td>\n",
       "    </tr>\n",
       "    <tr>\n",
       "      <th>995</th>\n",
       "      <td>1sato.com</td>\n",
       "      <td>NaN</td>\n",
       "    </tr>\n",
       "    <tr>\n",
       "      <th>996</th>\n",
       "      <td>1sepet.com</td>\n",
       "      <td>NaN</td>\n",
       "    </tr>\n",
       "    <tr>\n",
       "      <th>997</th>\n",
       "      <td>1server-bnh.com</td>\n",
       "      <td>NaN</td>\n",
       "    </tr>\n",
       "    <tr>\n",
       "      <th>998</th>\n",
       "      <td>1socialsolutions.com</td>\n",
       "      <td>NaN</td>\n",
       "    </tr>\n",
       "  </tbody>\n",
       "</table>\n",
       "<p>999 rows × 2 columns</p>\n",
       "</div>"
      ],
      "text/plain": [
       "                   domain  word\n",
       "0                0.claims   NaN\n",
       "1              0.training   NaN\n",
       "2           000100110.com   NaN\n",
       "3           0001stage.org   NaN\n",
       "4           0002704.space   NaN\n",
       "..                    ...   ...\n",
       "994    1rightchoice.store   NaN\n",
       "995             1sato.com   NaN\n",
       "996            1sepet.com   NaN\n",
       "997       1server-bnh.com   NaN\n",
       "998  1socialsolutions.com   NaN\n",
       "\n",
       "[999 rows x 2 columns]"
      ]
     },
     "execution_count": 59,
     "metadata": {},
     "output_type": "execute_result"
    }
   ],
   "source": [
    "website"
   ]
  },
  {
   "cell_type": "code",
   "execution_count": 60,
   "id": "3aebb515-18d8-49a0-acc3-4e230de015a2",
   "metadata": {},
   "outputs": [],
   "source": [
    "def substrings_in_set(s, words):\n",
    "    if s in words:\n",
    "        yield [s]\n",
    "    for i in range(1, len(s)):\n",
    "        if s[:i] not in words:\n",
    "            continue\n",
    "        for rest in substrings_in_set(s[i:], words):\n",
    "            yield [s[:i]] + rest"
   ]
  },
  {
   "cell_type": "code",
   "execution_count": 61,
   "id": "36570e39-b0a2-46b8-891a-a4901d4a01ed",
   "metadata": {},
   "outputs": [],
   "source": [
    "# Assuming Linux. Word list may also be at /usr/dict/words. \n",
    "# If not on Linux, grab yourself an enlish word list and insert here:\n",
    "words = set(x.strip().lower() for x in open(\"word.txt\").readlines())\n",
    "\n",
    "# The above english dictionary for some reason lists all single letters as words.\n",
    "# Remove all except \"i\" and \"u\" (remember a string is an iterable, which means\n",
    "# that set(\"abc\") == set([\"a\", \"b\", \"c\"])).\n",
    "words -= set(\"bcdefghjklmnopqrstvwxyz\")\n",
    "\n",
    "# If there are more words we don't like, we remove them like this:\n",
    "words -= set((\"ex\", \"rs\", \"ra\", \"frobnicate\"))\n",
    "\n",
    "# We may also add words that we do want to recognize. Now the domain name\n",
    "# slartibartfast4ever.co.uk will be properly counted, for instance.\n",
    "words |= set((\"4\", \"2\", \"slartibartfast\")) "
   ]
  },
  {
   "cell_type": "code",
   "execution_count": 63,
   "id": "bd5f7ce9-c7d2-43b2-bf59-ef56cf1e4632",
   "metadata": {},
   "outputs": [
    {
     "name": "stdout",
     "output_type": "stream",
     "text": [
      "999\n"
     ]
    }
   ],
   "source": [
    "count = {}\n",
    "no_match = []\n",
    "domains = website.domain\n",
    "\n",
    "Note=open('x.txt',mode='w')\n",
    "print(len(domains))\n",
    "for domain in domains:\n",
    "    # Extract the part in front of the first \".\", and make it lower case\n",
    "    name = domain.partition(\".\")[0].lower()\n",
    "    found = set()\n",
    "    for split in substrings_in_set(name, words):\n",
    "        found |= set(split)\n",
    "    found_str = str(found)\n",
    "    Note.write(found_str + '\\n') #\\n 换行符\n"
   ]
  },
  {
   "cell_type": "code",
   "execution_count": null,
   "id": "2caec600-31a8-4379-9e7a-960d92e01aae",
   "metadata": {},
   "outputs": [],
   "source": []
  },
  {
   "cell_type": "code",
   "execution_count": null,
   "id": "c51920f2-67a5-493d-8496-a8b753b79811",
   "metadata": {},
   "outputs": [],
   "source": [
    "count = {}\n",
    "no_match = []\n",
    "domains = website.domain\n",
    "\n",
    "# Assume domains is the list of domain names [\"examplecartrading.com\", ...]\n",
    "for domain in domains:\n",
    "    # Extract the part in front of the first \".\", and make it lower case\n",
    "    name = domain.partition(\".\")[0].lower()\n",
    "    found = set()\n",
    "    for split in substrings_in_set(name, words):\n",
    "        found |= set(split)\n",
    "    for word in found:\n",
    "        count[word] = count.get(word, 0) + 1\n",
    "    if not found:\n",
    "        no_match.append(name)\n",
    "\n",
    "print (count)\n",
    "print (\"No match found for:\", no_match)"
   ]
  },
  {
   "cell_type": "code",
   "execution_count": null,
   "id": "3780eac7-bca3-47a1-a8d3-33a98c96052b",
   "metadata": {},
   "outputs": [],
   "source": []
  },
  {
   "cell_type": "code",
   "execution_count": null,
   "id": "8b0c4d7a-9123-4f84-8267-63e976a4d0c6",
   "metadata": {},
   "outputs": [],
   "source": []
  },
  {
   "cell_type": "code",
   "execution_count": null,
   "id": "e6b73f4d-a4b1-439d-9dda-d14ecb91ecd5",
   "metadata": {},
   "outputs": [],
   "source": []
  }
 ],
 "metadata": {
  "kernelspec": {
   "display_name": "Python 3 (ipykernel)",
   "language": "python",
   "name": "python3"
  },
  "language_info": {
   "codemirror_mode": {
    "name": "ipython",
    "version": 3
   },
   "file_extension": ".py",
   "mimetype": "text/x-python",
   "name": "python",
   "nbconvert_exporter": "python",
   "pygments_lexer": "ipython3",
   "version": "3.9.7"
  }
 },
 "nbformat": 4,
 "nbformat_minor": 5
}
